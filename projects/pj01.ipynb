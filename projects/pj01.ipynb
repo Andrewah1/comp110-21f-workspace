{
 "cells": [
  {
   "cell_type": "markdown",
   "metadata": {},
   "source": [
    "# Hypothesis: Indiviaudls with previous computer science expirence make up the largest propotion of COMP 110 students"
   ]
  },
  {
   "cell_type": "code",
   "execution_count": 2,
   "metadata": {},
   "outputs": [],
   "source": [
    "__author__ = \"730389123\""
   ]
  },
  {
   "cell_type": "markdown",
   "metadata": {},
   "source": [
    "### First I will enable autorelaod of imported modules"
   ]
  },
  {
   "cell_type": "code",
   "execution_count": 3,
   "metadata": {},
   "outputs": [],
   "source": [
    "%reload_ext autoreload\n",
    "%autoreload 2"
   ]
  },
  {
   "cell_type": "markdown",
   "metadata": {},
   "source": [
    "### Second I will read in the CSV and convert the data into a column orrentiated table"
   ]
  },
  {
   "cell_type": "code",
   "execution_count": 5,
   "metadata": {},
   "outputs": [],
   "source": [
    "from data_utils import read_csv_rows, columnar\n",
    "\n",
    "data_rows: list[dict[str, str]] = read_csv_rows('../data/survey.csv')\n",
    "columns: dict[str, list[str]] = columnar(data_rows)"
   ]
  },
  {
   "cell_type": "markdown",
   "metadata": {},
   "source": [
    "## Next I will select the prior_exp, AP_Principles, AP_A, and other_comp columns. The first five rows from each are shown below"
   ]
  },
  {
   "cell_type": "code",
   "execution_count": 9,
   "metadata": {},
   "outputs": [
    {
     "name": "stdout",
     "output_type": "stream",
     "text": [
      "{'prior_exp': ['None to less than one month!', 'None to less than one month!', 'None to less than one month!', 'None to less than one month!', 'None to less than one month!']}\n",
      "{'AP_Principles': ['', '', '', '', '']}\n",
      "{'AP_A': ['', '', '', '', '']}\n",
      "{'other_comp': ['', '', '', '', '']}\n"
     ]
    }
   ],
   "source": [
    "from data_utils import head, select\n",
    "\n",
    "narrow_0: dict[str, list[str]] = select(columns, [\"prior_exp\"])\n",
    "narrow_1: dict[str, list[str]] = select(columns, [\"AP_Principles\"])\n",
    "narrow_2: dict[str, list[str]] = select(columns, [\"AP_A\"])\n",
    "narrow_3: dict[str, list[str]] = select(columns, [\"other_comp\"])\n",
    "\n",
    "print(head(narrow_0, 5))\n",
    "print(head(narrow_1, 5))\n",
    "print(head(narrow_2, 5))\n",
    "print(head(narrow_3, 5))"
   ]
  },
  {
   "cell_type": "markdown",
   "metadata": {},
   "source": [
    "# Next I will find the counts of the possible values in each column."
   ]
  },
  {
   "cell_type": "code",
   "execution_count": 10,
   "metadata": {},
   "outputs": [
    {
     "name": "stdout",
     "output_type": "stream",
     "text": [
      "{'None to less than one month!': 403, 'Over 2 years': 11, '2-6 months': 104, '7-12 months': 37, '1-2 years': 18}\n",
      "{'': 403, 'Yes': 46, 'No': 124}\n",
      "{'': 403, 'Yes': 35, 'No': 135}\n",
      "{'': 403, 'High school course (IB or other)': 61, 'None': 6, 'Khan Academy Coding ': 1, 'Another college or community college': 23, 'N/A': 3, 'NA': 1, 'no': 4, 'none': 3, 'No': 9, 'On-line course': 26, 'UNC': 21, 'ap': 1, 'I guess \"my little brother took AP CS and taught it to me\" would be the best descriptor of my experience.': 1, 'NCSSM Online': 1, 'No, but I took an Intro to Python Course in high school': 1, 'very introductory, easy, simple python class at my high school which this class covered more than on day 1.': 1, 'Self-studied using various sources online': 1, 'None ': 1, 'I did not take any formally taught class': 1, 'no formally taught class, friend attempted to teach me the basics 2 summers ago': 1, 'No other formal programming class': 1, 'Summer class': 1, 'NCSSM intro to data science class (we used R)': 1}\n"
     ]
    }
   ],
   "source": [
    "from data_utils import count\n",
    "\n",
    "counts_0 = count(narrow_0['prior_exp'])\n",
    "counts_1 = count(narrow_1['AP_Principles'])\n",
    "counts_2 = count(narrow_2['AP_A'])\n",
    "counts_3 = count(narrow_3['other_comp'])\n",
    "\n",
    "print(counts_0)\n",
    "print(counts_1)\n",
    "print(counts_2)\n",
    "print(counts_3)"
   ]
  },
  {
   "cell_type": "markdown",
   "metadata": {},
   "source": [
    "## Now I will aggregate the results into a simple yes or no."
   ]
  },
  {
   "cell_type": "markdown",
   "metadata": {},
   "source": []
  },
  {
   "cell_type": "markdown",
   "metadata": {},
   "source": [
    "## The data from the survey shows that the majority of students in COMP 110 do not have significant expirence with Computer Science prior to taking the class"
   ]
  }
 ],
 "metadata": {
  "interpreter": {
   "hash": "f3180b8f9590fd3c8d69342267afa7a3ea586c0f31375b369c21ea35f665ab44"
  },
  "kernelspec": {
   "display_name": "Python 3.9.6 64-bit",
   "name": "python3"
  },
  "language_info": {
   "codemirror_mode": {
    "name": "ipython",
    "version": 3
   },
   "file_extension": ".py",
   "mimetype": "text/x-python",
   "name": "python",
   "nbconvert_exporter": "python",
   "pygments_lexer": "ipython3",
   "version": "3.9.6"
  },
  "orig_nbformat": 4
 },
 "nbformat": 4,
 "nbformat_minor": 2
}
