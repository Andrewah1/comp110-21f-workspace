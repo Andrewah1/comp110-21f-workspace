{
 "cells": [
  {
   "cell_type": "markdown",
   "metadata": {},
   "source": [
    "# Hypothesis: Indiviaudls with previous computer science expirence make up the largest propotion of COMP 110 students"
   ]
  },
  {
   "cell_type": "code",
   "execution_count": 2,
   "metadata": {},
   "outputs": [],
   "source": [
    "__author__ = \"730389123\""
   ]
  },
  {
   "cell_type": "markdown",
   "metadata": {},
   "source": [
    "### First I will enable autorelaod of imported modules"
   ]
  },
  {
   "cell_type": "code",
   "execution_count": 3,
   "metadata": {},
   "outputs": [],
   "source": [
    "%reload_ext autoreload\n",
    "%autoreload 2"
   ]
  },
  {
   "cell_type": "markdown",
   "metadata": {},
   "source": [
    "### Second I will read in the CSV and convert the data into a column orrentiated table"
   ]
  },
  {
   "cell_type": "code",
   "execution_count": 5,
   "metadata": {},
   "outputs": [],
   "source": [
    "from data_utils import read_csv_rows, columnar\n",
    "\n",
    "data_rows: list[dict[str, str]] = read_csv_rows('../data/survey.csv')\n",
    "columns: dict[str, list[str]] = columnar(data_rows)"
   ]
  },
  {
   "cell_type": "markdown",
   "metadata": {},
   "source": [
    "## Next I will select just the primary_major and comp_major columns. The first five rows from each are shown below"
   ]
  },
  {
   "cell_type": "code",
   "execution_count": 9,
   "metadata": {},
   "outputs": [
    {
     "name": "stdout",
     "output_type": "stream",
     "text": [
      "{'prior_exp': ['None to less than one month!', 'None to less than one month!', 'None to less than one month!', 'None to less than one month!', 'None to less than one month!']}\n",
      "{'AP_Principles': ['', '', '', '', '']}\n",
      "{'AP_A': ['', '', '', '', '']}\n",
      "{'other_comp': ['', '', '', '', '']}\n"
     ]
    }
   ],
   "source": [
    "from data_utils import head, select\n",
    "\n",
    "narrow_0: dict[str, list[str]] = select(columns, [\"prior_exp\"])\n",
    "narrow_1: dict[str, list[str]] = select(columns, [\"AP_Principles\"])\n",
    "narrow_2: dict[str, list[str]] = select(columns, [\"AP_A\"])\n",
    "narrow_3: dict[str, list[str]] = select(columns, [\"other_comp\"])\n",
    "\n",
    "print(head(narrow_0, 5))\n",
    "print(head(narrow_1, 5))\n",
    "print(head(narrow_2, 5))\n",
    "print(head(narrow_3, 5))"
   ]
  },
  {
   "cell_type": "markdown",
   "metadata": {},
   "source": [
    "# Next I will find which major in the list is the most common"
   ]
  },
  {
   "cell_type": "code",
   "execution_count": 7,
   "metadata": {},
   "outputs": [
    {
     "name": "stdout",
     "output_type": "stream",
     "text": [
      "{'Advertising and Public Relations': 1, 'Anthropology': 1, 'Biology': 59, 'Biostatistics': 6, 'Biostatistics ': 5, 'Business': 51, 'Chemistry': 5, 'Communications': 3, 'Computer Science': 119, 'Economics': 42, 'English': 3, 'Environmental Science': 14, 'Environmental Science ': 8, 'Exercise and Sports Science': 7, 'Geology': 1, 'Global Studies': 1, 'Health Policy and Management': 3, 'History': 3, 'Information Science': 14, 'Information science': 1, 'Information Science ': 4, 'Journalism': 6, 'Math': 7, 'Math ': 12, 'Neuroscience': 33, 'Neuroscience ': 15, 'Nursing': 2, 'Nutrition': 2, 'Peace, War, and Defense': 5, 'Physics': 4, 'Political Science': 5, 'Psychology': 38, 'Psychology ': 37, 'Public Health': 3, 'Public Policy': 4, 'Sociology': 1, 'Spanish': 1, 'Statistics': 8, 'Statistics ': 21, 'Undecided': 18}\n"
     ]
    }
   ],
   "source": [
    "from data_utils import count\n",
    "\n",
    "counts_0 = count(narrow_0['prior_exp'])\n",
    "counts_1 = count(narrow_1['AP_Principles'])\n",
    "counts_2 = count(narrow_2['AP_A'])\n",
    "counts_3 = count(narrow_3['other_comp'])\n",
    "\n",
    "print(counts_0)\n",
    "print(counts_1)\n",
    "print(counts_2)\n",
    "print(counts_3)"
   ]
  }
 ],
 "metadata": {
  "interpreter": {
   "hash": "f3180b8f9590fd3c8d69342267afa7a3ea586c0f31375b369c21ea35f665ab44"
  },
  "kernelspec": {
   "display_name": "Python 3.9.6 64-bit",
   "name": "python3"
  },
  "language_info": {
   "codemirror_mode": {
    "name": "ipython",
    "version": 3
   },
   "file_extension": ".py",
   "mimetype": "text/x-python",
   "name": "python",
   "nbconvert_exporter": "python",
   "pygments_lexer": "ipython3",
   "version": "3.9.6"
  },
  "orig_nbformat": 4
 },
 "nbformat": 4,
 "nbformat_minor": 2
}
